{
 "cells": [
  {
   "cell_type": "markdown",
   "metadata": {
    "colab_type": "text",
    "id": "PuteZFYRHv9F"
   },
   "source": [
    "# **ROB'S NYTIMES COVID ANALYSIS (PER COUNTY)**\n",
    "\n",
    "\n",
    "- import the NYTIMES covid  data as a pandas frame\n",
    "- massage and plot\n",
    "- **To Execute**:\n",
    " - select Runtime->Run all\n",
    " - or Type Ctrl-Return on each cell to execute it\n",
    "\n"
   ]
  },
  {
   "cell_type": "code",
   "execution_count": 1,
   "metadata": {
    "colab": {},
    "colab_type": "code",
    "id": "oIHu0MG8PJsi"
   },
   "outputs": [],
   "source": [
    "import numpy as np\n",
    "import pandas as pd\n",
    "import plotly.graph_objects as go\n",
    "import plotly.subplots as subplots\n",
    "# I'd prefer matplotlib notebook for the backend, but it doesnt work under colab\n",
    "#%matplotlib inline\n",
    "\n",
    "# reload modules without reloading explicitly\n",
    "import importlib\n",
    "%load_ext autoreload\n",
    "%autoreload 2\n"
   ]
  },
  {
   "cell_type": "code",
   "execution_count": 6,
   "metadata": {},
   "outputs": [],
   "source": [
    "%pwd\n",
    "import rycovid as cvd"
   ]
  },
  {
   "cell_type": "markdown",
   "metadata": {
    "colab_type": "text",
    "id": "uSGahWVyKWXq"
   },
   "source": [
    "# LOAD DATA\n",
    "\n",
    "see https://towardsdatascience.com/3-ways-to-load-csv-files-into-colab-7c14fcbdcb92\n",
    "\n"
   ]
  },
  {
   "cell_type": "markdown",
   "metadata": {},
   "source": [
    "## Load the NYTIMES data from the git repo raw view"
   ]
  },
  {
   "cell_type": "code",
   "execution_count": 7,
   "metadata": {
    "colab": {},
    "colab_type": "code",
    "id": "yfO2VEmR9x7D"
   },
   "outputs": [],
   "source": [
    "#\n",
    "# set the URL for the \"raw view\" of the data\n",
    "NYTIMES_COUNTY_URL=\"https://raw.githubusercontent.com/nytimes/covid-19-data/master/us-counties.csv\"\n"
   ]
  },
  {
   "cell_type": "code",
   "execution_count": 8,
   "metadata": {
    "colab": {
     "base_uri": "https://localhost:8080/",
     "height": 204
    },
    "colab_type": "code",
    "executionInfo": {
     "elapsed": 715,
     "status": "ok",
     "timestamp": 1585880463810,
     "user": {
      "displayName": "Robert Yu",
      "photoUrl": "https://lh3.googleusercontent.com/a-/AOh14Ghf4OXctI7xoEyjOLrjcqFZbC8ZAag4rERPO5-84Q=s64",
      "userId": "07564920763796818772"
     },
     "user_tz": 420
    },
    "id": "Wdl1XQ469wL-",
    "outputId": "b70c8af9-ec73-4ab3-99e8-26b0eba6daeb"
   },
   "outputs": [
    {
     "data": {
      "text/html": [
       "<div>\n",
       "<style scoped>\n",
       "    .dataframe tbody tr th:only-of-type {\n",
       "        vertical-align: middle;\n",
       "    }\n",
       "\n",
       "    .dataframe tbody tr th {\n",
       "        vertical-align: top;\n",
       "    }\n",
       "\n",
       "    .dataframe thead th {\n",
       "        text-align: right;\n",
       "    }\n",
       "</style>\n",
       "<table border=\"1\" class=\"dataframe\">\n",
       "  <thead>\n",
       "    <tr style=\"text-align: right;\">\n",
       "      <th></th>\n",
       "      <th>date</th>\n",
       "      <th>county</th>\n",
       "      <th>state</th>\n",
       "      <th>fips</th>\n",
       "      <th>cases</th>\n",
       "      <th>deaths</th>\n",
       "    </tr>\n",
       "  </thead>\n",
       "  <tbody>\n",
       "    <tr>\n",
       "      <th>30838</th>\n",
       "      <td>2020-04-03</td>\n",
       "      <td>Sublette</td>\n",
       "      <td>Wyoming</td>\n",
       "      <td>56035.0</td>\n",
       "      <td>1</td>\n",
       "      <td>0</td>\n",
       "    </tr>\n",
       "    <tr>\n",
       "      <th>30839</th>\n",
       "      <td>2020-04-03</td>\n",
       "      <td>Sweetwater</td>\n",
       "      <td>Wyoming</td>\n",
       "      <td>56037.0</td>\n",
       "      <td>3</td>\n",
       "      <td>0</td>\n",
       "    </tr>\n",
       "    <tr>\n",
       "      <th>30840</th>\n",
       "      <td>2020-04-03</td>\n",
       "      <td>Teton</td>\n",
       "      <td>Wyoming</td>\n",
       "      <td>56039.0</td>\n",
       "      <td>32</td>\n",
       "      <td>0</td>\n",
       "    </tr>\n",
       "    <tr>\n",
       "      <th>30841</th>\n",
       "      <td>2020-04-03</td>\n",
       "      <td>Uinta</td>\n",
       "      <td>Wyoming</td>\n",
       "      <td>56041.0</td>\n",
       "      <td>1</td>\n",
       "      <td>0</td>\n",
       "    </tr>\n",
       "    <tr>\n",
       "      <th>30842</th>\n",
       "      <td>2020-04-03</td>\n",
       "      <td>Washakie</td>\n",
       "      <td>Wyoming</td>\n",
       "      <td>56043.0</td>\n",
       "      <td>2</td>\n",
       "      <td>0</td>\n",
       "    </tr>\n",
       "  </tbody>\n",
       "</table>\n",
       "</div>"
      ],
      "text/plain": [
       "             date      county    state     fips  cases  deaths\n",
       "30838  2020-04-03    Sublette  Wyoming  56035.0      1       0\n",
       "30839  2020-04-03  Sweetwater  Wyoming  56037.0      3       0\n",
       "30840  2020-04-03       Teton  Wyoming  56039.0     32       0\n",
       "30841  2020-04-03       Uinta  Wyoming  56041.0      1       0\n",
       "30842  2020-04-03    Washakie  Wyoming  56043.0      2       0"
      ]
     },
     "execution_count": 8,
     "metadata": {},
     "output_type": "execute_result"
    }
   ],
   "source": [
    "# get data direct\n",
    "nyt_df = pd.read_csv(NYTIMES_COUNTY_URL)\n",
    "nyt_df.tail()  # print tail so we can latest date"
   ]
  },
  {
   "cell_type": "markdown",
   "metadata": {},
   "source": [
    " ## read county population data from the US Census excel spreadsheet"
   ]
  },
  {
   "cell_type": "code",
   "execution_count": 9,
   "metadata": {},
   "outputs": [
    {
     "name": "stdout",
     "output_type": "stream",
     "text": [
      "\u001b[34m__pycache__\u001b[m\u001b[m                        rycovid.py~\n",
      "analyze-nytimes-covid-county.ipynb state-geocodes-v2017.xlsx\n",
      "co-est2019-annres.xlsx             ~$co-est2019-annres.xlsx\n",
      "rycovid.py\n",
      "3142\n"
     ]
    }
   ],
   "source": [
    "!ls\n",
    "pop_df = pd.read_excel('co-est2019-annres.xlsx',header=3,nrows=3147-4)\n",
    "pop_df = pop_df.rename(columns={\"Unnamed: 0\":\"county+state\"})\n",
    "pop_df = pop_df.drop([0]).reset_index()  # first row is overall US population\n",
    "pop_df.head()\n",
    "print(len(pop_df))\n"
   ]
  },
  {
   "cell_type": "markdown",
   "metadata": {},
   "source": [
    " ## prep the data"
   ]
  },
  {
   "cell_type": "code",
   "execution_count": 18,
   "metadata": {},
   "outputs": [
    {
     "name": "stdout",
     "output_type": "stream",
     "text": [
      "3142\n",
      "3142\n"
     ]
    },
    {
     "data": {
      "text/html": [
       "<div>\n",
       "<style scoped>\n",
       "    .dataframe tbody tr th:only-of-type {\n",
       "        vertical-align: middle;\n",
       "    }\n",
       "\n",
       "    .dataframe tbody tr th {\n",
       "        vertical-align: top;\n",
       "    }\n",
       "\n",
       "    .dataframe thead th {\n",
       "        text-align: right;\n",
       "    }\n",
       "</style>\n",
       "<table border=\"1\" class=\"dataframe\">\n",
       "  <thead>\n",
       "    <tr style=\"text-align: right;\">\n",
       "      <th></th>\n",
       "      <th>index</th>\n",
       "      <th>Census</th>\n",
       "      <th>Estimates Base</th>\n",
       "      <th>2010</th>\n",
       "      <th>2011</th>\n",
       "      <th>2012</th>\n",
       "      <th>2013</th>\n",
       "      <th>2014</th>\n",
       "      <th>2015</th>\n",
       "      <th>2016</th>\n",
       "      <th>2017</th>\n",
       "      <th>2018</th>\n",
       "      <th>2019</th>\n",
       "      <th>county</th>\n",
       "      <th>state</th>\n",
       "    </tr>\n",
       "  </thead>\n",
       "  <tbody>\n",
       "    <tr>\n",
       "      <th>0</th>\n",
       "      <td>1</td>\n",
       "      <td>54571</td>\n",
       "      <td>54597</td>\n",
       "      <td>54773</td>\n",
       "      <td>55227</td>\n",
       "      <td>54954</td>\n",
       "      <td>54727</td>\n",
       "      <td>54893</td>\n",
       "      <td>54864</td>\n",
       "      <td>55243</td>\n",
       "      <td>55390</td>\n",
       "      <td>55533</td>\n",
       "      <td>55869</td>\n",
       "      <td>.Autauga County</td>\n",
       "      <td>Alabama</td>\n",
       "    </tr>\n",
       "    <tr>\n",
       "      <th>1</th>\n",
       "      <td>2</td>\n",
       "      <td>182265</td>\n",
       "      <td>182265</td>\n",
       "      <td>183112</td>\n",
       "      <td>186558</td>\n",
       "      <td>190145</td>\n",
       "      <td>194885</td>\n",
       "      <td>199183</td>\n",
       "      <td>202939</td>\n",
       "      <td>207601</td>\n",
       "      <td>212521</td>\n",
       "      <td>217855</td>\n",
       "      <td>223234</td>\n",
       "      <td>.Baldwin County</td>\n",
       "      <td>Alabama</td>\n",
       "    </tr>\n",
       "    <tr>\n",
       "      <th>2</th>\n",
       "      <td>3</td>\n",
       "      <td>27457</td>\n",
       "      <td>27455</td>\n",
       "      <td>27327</td>\n",
       "      <td>27341</td>\n",
       "      <td>27169</td>\n",
       "      <td>26937</td>\n",
       "      <td>26755</td>\n",
       "      <td>26283</td>\n",
       "      <td>25806</td>\n",
       "      <td>25157</td>\n",
       "      <td>24872</td>\n",
       "      <td>24686</td>\n",
       "      <td>.Barbour County</td>\n",
       "      <td>Alabama</td>\n",
       "    </tr>\n",
       "    <tr>\n",
       "      <th>3</th>\n",
       "      <td>4</td>\n",
       "      <td>22915</td>\n",
       "      <td>22915</td>\n",
       "      <td>22870</td>\n",
       "      <td>22745</td>\n",
       "      <td>22667</td>\n",
       "      <td>22521</td>\n",
       "      <td>22553</td>\n",
       "      <td>22566</td>\n",
       "      <td>22586</td>\n",
       "      <td>22550</td>\n",
       "      <td>22367</td>\n",
       "      <td>22394</td>\n",
       "      <td>.Bibb County</td>\n",
       "      <td>Alabama</td>\n",
       "    </tr>\n",
       "    <tr>\n",
       "      <th>4</th>\n",
       "      <td>5</td>\n",
       "      <td>57322</td>\n",
       "      <td>57322</td>\n",
       "      <td>57376</td>\n",
       "      <td>57560</td>\n",
       "      <td>57580</td>\n",
       "      <td>57619</td>\n",
       "      <td>57526</td>\n",
       "      <td>57526</td>\n",
       "      <td>57494</td>\n",
       "      <td>57787</td>\n",
       "      <td>57771</td>\n",
       "      <td>57826</td>\n",
       "      <td>.Blount County</td>\n",
       "      <td>Alabama</td>\n",
       "    </tr>\n",
       "  </tbody>\n",
       "</table>\n",
       "</div>"
      ],
      "text/plain": [
       "   index  Census  Estimates Base    2010    2011    2012    2013    2014  \\\n",
       "0      1   54571           54597   54773   55227   54954   54727   54893   \n",
       "1      2  182265          182265  183112  186558  190145  194885  199183   \n",
       "2      3   27457           27455   27327   27341   27169   26937   26755   \n",
       "3      4   22915           22915   22870   22745   22667   22521   22553   \n",
       "4      5   57322           57322   57376   57560   57580   57619   57526   \n",
       "\n",
       "     2015    2016    2017    2018    2019           county     state  \n",
       "0   54864   55243   55390   55533   55869  .Autauga County   Alabama  \n",
       "1  202939  207601  212521  217855  223234  .Baldwin County   Alabama  \n",
       "2   26283   25806   25157   24872   24686  .Barbour County   Alabama  \n",
       "3   22566   22586   22550   22367   22394     .Bibb County   Alabama  \n",
       "4   57526   57494   57787   57771   57826   .Blount County   Alabama  "
      ]
     },
     "execution_count": 18,
     "metadata": {},
     "output_type": "execute_result"
    }
   ],
   "source": [
    "pop_df1=pop_df.copy()\n",
    "pop_df1 = cvd.split_county_state(pop_df1)\n",
    "pop_df1.head()\n",
    "#print(pop_df1[pop_df1['state']=='Alabama'])"
   ]
  },
  {
   "cell_type": "code",
   "execution_count": 130,
   "metadata": {
    "scrolled": true
   },
   "outputs": [
    {
     "data": {
      "text/plain": [
       "Index([         'index',         'Census', 'Estimates Base',             2010,\n",
       "                   2011,             2012,             2013,             2014,\n",
       "                   2015,             2016,             2017,             2018,\n",
       "                   2019,         'county',          'state'],\n",
       "      dtype='object')"
      ]
     },
     "execution_count": 130,
     "metadata": {},
     "output_type": "execute_result"
    }
   ],
   "source": [
    "pop_df2 = pop_df1.copy()\n",
    "pop_df2=cvd.strip_leading_dot(pop_df2,'county')\n",
    "pop_df2 = cvd.to_lower(pop_df2,\"county\")\n",
    "pop_df2 = cvd.to_lower(pop_df2,\"state\")\n",
    "#pop_df2 = strip_trailing_county(pop_df2,'county')\n",
    "pop_df2 = cvd.strip_spaces(pop_df2,'county')\n",
    "pop_df2 = cvd.strip_spaces(pop_df2,'state')\n",
    "\n",
    "pop_df2 = cvd.do_misc_census_fixup(pop_df2)\n",
    "\n",
    "#pop_df2.head()\n",
    "#pop_df2[pop_df2['state'].str.match('alabama')]\n",
    "pop_df2.columns\n",
    "#pop_df2['county'].unique()"
   ]
  },
  {
   "cell_type": "code",
   "execution_count": 127,
   "metadata": {},
   "outputs": [
    {
     "data": {
      "text/html": [
       "<div>\n",
       "<style scoped>\n",
       "    .dataframe tbody tr th:only-of-type {\n",
       "        vertical-align: middle;\n",
       "    }\n",
       "\n",
       "    .dataframe tbody tr th {\n",
       "        vertical-align: top;\n",
       "    }\n",
       "\n",
       "    .dataframe thead th {\n",
       "        text-align: right;\n",
       "    }\n",
       "</style>\n",
       "<table border=\"1\" class=\"dataframe\">\n",
       "  <thead>\n",
       "    <tr style=\"text-align: right;\">\n",
       "      <th></th>\n",
       "      <th>index</th>\n",
       "      <th>Census</th>\n",
       "      <th>Estimates Base</th>\n",
       "      <th>2010</th>\n",
       "      <th>2011</th>\n",
       "      <th>2012</th>\n",
       "      <th>2013</th>\n",
       "      <th>2014</th>\n",
       "      <th>2015</th>\n",
       "      <th>2016</th>\n",
       "      <th>2017</th>\n",
       "      <th>2018</th>\n",
       "      <th>2019</th>\n",
       "      <th>county</th>\n",
       "      <th>state</th>\n",
       "    </tr>\n",
       "  </thead>\n",
       "  <tbody>\n",
       "    <tr>\n",
       "      <th>916</th>\n",
       "      <td>917.0</td>\n",
       "      <td>33848.0</td>\n",
       "      <td>33844.0</td>\n",
       "      <td>34008.0</td>\n",
       "      <td>34372.0</td>\n",
       "      <td>34665.0</td>\n",
       "      <td>34879.0</td>\n",
       "      <td>34930.0</td>\n",
       "      <td>34629.0</td>\n",
       "      <td>34552.0</td>\n",
       "      <td>34218.0</td>\n",
       "      <td>33877.0</td>\n",
       "      <td>33619</td>\n",
       "      <td>ford county</td>\n",
       "      <td>kansas</td>\n",
       "    </tr>\n",
       "  </tbody>\n",
       "</table>\n",
       "</div>"
      ],
      "text/plain": [
       "     index   Census  Estimates Base     2010     2011     2012     2013  \\\n",
       "916  917.0  33848.0         33844.0  34008.0  34372.0  34665.0  34879.0   \n",
       "\n",
       "        2014     2015     2016     2017     2018   2019       county   state  \n",
       "916  34930.0  34629.0  34552.0  34218.0  33877.0  33619  ford county  kansas  "
      ]
     },
     "execution_count": 127,
     "metadata": {},
     "output_type": "execute_result"
    }
   ],
   "source": [
    "#\n",
    "# census county names are sometimes \"blah county,\" sometimes \"blah county census area\" etc.\n",
    "# so to find a specific county, use df.county.str.contains('blah')\n",
    "#pop_df2[(pop_df2.county.str.contains('anchorage')) & (pop_df2.state=='alaska')]\n",
    "#pop_df2[(pop_df2.county.str.contains('virginia beach city')) & (pop_df2.state=='virginia')]\n",
    "#pop_df2[cvd.get_index_county_state(pop_df2,'snohomish','washington',smartmatch=True)]\n",
    "#pop_df2[cvd.get_index_county_state(pop_df2,'anchorage','alaska',smartmatch=True)]\n",
    "#pop_df2[cvd.get_index_county_state(pop_df2,'smith','texas',smartmatch=True)]\n",
    "pop_df2[cvd.get_index_county_state(pop_df2,'ford','kansas',smartmatch=True)]\n",
    "\n",
    "\n",
    "\n"
   ]
  },
  {
   "cell_type": "code",
   "execution_count": 44,
   "metadata": {},
   "outputs": [
    {
     "name": "stdout",
     "output_type": "stream",
     "text": [
      "      index   Census  Estimates Base     2010     2011     2012     2013  \\\n",
      "1858   1859  1585873         1586381  1588767  1608293  1623911  1627491   \n",
      "\n",
      "         2014     2015     2016     2017     2018     2019         county  \\\n",
      "1858  1630678  1636063  1635443  1630698  1629055  1628706  new york city   \n",
      "\n",
      "         state  \n",
      "1858  new york  \n"
     ]
    }
   ],
   "source": []
  },
  {
   "cell_type": "code",
   "execution_count": 13,
   "metadata": {
    "scrolled": true
   },
   "outputs": [
    {
     "data": {
      "text/html": [
       "<div>\n",
       "<style scoped>\n",
       "    .dataframe tbody tr th:only-of-type {\n",
       "        vertical-align: middle;\n",
       "    }\n",
       "\n",
       "    .dataframe tbody tr th {\n",
       "        vertical-align: top;\n",
       "    }\n",
       "\n",
       "    .dataframe thead th {\n",
       "        text-align: right;\n",
       "    }\n",
       "</style>\n",
       "<table border=\"1\" class=\"dataframe\">\n",
       "  <thead>\n",
       "    <tr style=\"text-align: right;\">\n",
       "      <th></th>\n",
       "      <th>date</th>\n",
       "      <th>county</th>\n",
       "      <th>state</th>\n",
       "      <th>fips</th>\n",
       "      <th>cases</th>\n",
       "      <th>deaths</th>\n",
       "    </tr>\n",
       "  </thead>\n",
       "  <tbody>\n",
       "    <tr>\n",
       "      <th>30838</th>\n",
       "      <td>2020-04-03</td>\n",
       "      <td>sublette</td>\n",
       "      <td>wyoming</td>\n",
       "      <td>56035.0</td>\n",
       "      <td>1</td>\n",
       "      <td>0</td>\n",
       "    </tr>\n",
       "    <tr>\n",
       "      <th>30839</th>\n",
       "      <td>2020-04-03</td>\n",
       "      <td>sweetwater</td>\n",
       "      <td>wyoming</td>\n",
       "      <td>56037.0</td>\n",
       "      <td>3</td>\n",
       "      <td>0</td>\n",
       "    </tr>\n",
       "    <tr>\n",
       "      <th>30840</th>\n",
       "      <td>2020-04-03</td>\n",
       "      <td>teton</td>\n",
       "      <td>wyoming</td>\n",
       "      <td>56039.0</td>\n",
       "      <td>32</td>\n",
       "      <td>0</td>\n",
       "    </tr>\n",
       "    <tr>\n",
       "      <th>30841</th>\n",
       "      <td>2020-04-03</td>\n",
       "      <td>uinta</td>\n",
       "      <td>wyoming</td>\n",
       "      <td>56041.0</td>\n",
       "      <td>1</td>\n",
       "      <td>0</td>\n",
       "    </tr>\n",
       "    <tr>\n",
       "      <th>30842</th>\n",
       "      <td>2020-04-03</td>\n",
       "      <td>washakie</td>\n",
       "      <td>wyoming</td>\n",
       "      <td>56043.0</td>\n",
       "      <td>2</td>\n",
       "      <td>0</td>\n",
       "    </tr>\n",
       "  </tbody>\n",
       "</table>\n",
       "</div>"
      ],
      "text/plain": [
       "             date      county    state     fips  cases  deaths\n",
       "30838  2020-04-03    sublette  wyoming  56035.0      1       0\n",
       "30839  2020-04-03  sweetwater  wyoming  56037.0      3       0\n",
       "30840  2020-04-03       teton  wyoming  56039.0     32       0\n",
       "30841  2020-04-03       uinta  wyoming  56041.0      1       0\n",
       "30842  2020-04-03    washakie  wyoming  56043.0      2       0"
      ]
     },
     "execution_count": 13,
     "metadata": {},
     "output_type": "execute_result"
    }
   ],
   "source": [
    "#\n",
    "# fix the NYT data\n",
    "nyt_df1 = nyt_df.copy()\n",
    "nyt_df1 = cvd.to_lower(nyt_df1,'county')\n",
    "nyt_df1 = cvd.to_lower(nyt_df1,'state')\n",
    "\n",
    "#\n",
    "# drop all county='unknown' entries\n",
    "unknown_indexes = nyt_df1[nyt_df1.county=='unknown'].index    \n",
    "nyt_df1 = nyt_df1.drop(index=unknown_indexes)\n",
    "nyt_df1[nyt_df1.county=='unknown']\n",
    "nyt_df1.tail()"
   ]
  },
  {
   "cell_type": "code",
   "execution_count": null,
   "metadata": {},
   "outputs": [],
   "source": []
  },
  {
   "cell_type": "code",
   "execution_count": 131,
   "metadata": {},
   "outputs": [
    {
     "name": "stdout",
     "output_type": "stream",
     "text": [
      "found 0 (county,state) mismatches\n"
     ]
    }
   ],
   "source": [
    "#validate_county_match(nyt_df1, pop_df2)\n",
    "mismatch_list = cvd.validate_county_match(nyt_df1,pop_df2)\n",
    "print(f\"found {len(mismatch_list)} (county,state) mismatches\")"
   ]
  },
  {
   "cell_type": "markdown",
   "metadata": {
    "colab_type": "text",
    "id": "LKXBOgYWLiQZ"
   },
   "source": [
    "# **MANIPULATE DATA**"
   ]
  },
  {
   "cell_type": "code",
   "execution_count": null,
   "metadata": {
    "colab": {},
    "colab_type": "code",
    "id": "1wpioRyQ3kzQ"
   },
   "outputs": [],
   "source": [
    "# DATE FIXUP\n",
    "# convert date to timestamp for easier manipulation\n",
    "if 'date' in states_df:\n",
    "  states_df['tstamp'] = [datestring_to_timestamp(d) for d in states_df['date']]\n",
    "  states_df.head()\n",
    "\n",
    "  # add day-number column\n",
    "  states_df['daynum'] = [datestring_to_daynum(d) for d in states_df['date'] ]\n",
    "\n",
    "  states_df=states_df.drop(columns=['date'])  # 'date' is a string, not very useful\n",
    "#end"
   ]
  },
  {
   "cell_type": "code",
   "execution_count": null,
   "metadata": {
    "colab": {
     "base_uri": "https://localhost:8080/",
     "height": 204
    },
    "colab_type": "code",
    "executionInfo": {
     "elapsed": 358,
     "status": "ok",
     "timestamp": 1585880034288,
     "user": {
      "displayName": "Robert Yu",
      "photoUrl": "https://lh3.googleusercontent.com/a-/AOh14Ghf4OXctI7xoEyjOLrjcqFZbC8ZAag4rERPO5-84Q=s64",
      "userId": "07564920763796818772"
     },
     "user_tz": 420
    },
    "id": "qEipFU5GQGgZ",
    "outputId": "f9250234-4eca-45f4-de5c-84bf28041ce0"
   },
   "outputs": [],
   "source": [
    "#\n",
    "#\n",
    "START_DATE=pd.to_datetime('2020-03-10')  # find index corresponding to START_DATE\n",
    "slice_df = states_df[states_df.tstamp >= START_DATE]\n",
    "slice_df = slice_df.reset_index(drop=True)\n",
    "slice_df.head()\n"
   ]
  },
  {
   "cell_type": "code",
   "execution_count": null,
   "metadata": {
    "colab": {
     "base_uri": "https://localhost:8080/",
     "height": 34
    },
    "colab_type": "code",
    "executionInfo": {
     "elapsed": 2273,
     "status": "ok",
     "timestamp": 1585879334711,
     "user": {
      "displayName": "Robert Yu",
      "photoUrl": "https://lh3.googleusercontent.com/a-/AOh14Ghf4OXctI7xoEyjOLrjcqFZbC8ZAag4rERPO5-84Q=s64",
      "userId": "07564920763796818772"
     },
     "user_tz": 420
    },
    "id": "-avcH6TsAeqc",
    "outputId": "102123ea-53be-4969-9b00-e278097a4815"
   },
   "outputs": [],
   "source": [
    "# make list of desired states to plot\n",
    "if False:  # specify True to include all states\n",
    "  states = slice_df['state']\n",
    "  states=states.drop_duplicates()\n",
    "else:\n",
    "  #states=['California','New York','New Jersey','Florida']\n",
    "  #states=['California','New York','Florida','New Jersey']\n",
    "  states=['Louisiana', 'Oklahoma', 'South Carolina', 'Tennessee','Michigan','Washington']\n",
    "#end\n",
    "len(states)"
   ]
  },
  {
   "cell_type": "code",
   "execution_count": null,
   "metadata": {
    "colab": {},
    "colab_type": "code",
    "id": "lyYUDO0g1ORP"
   },
   "outputs": [],
   "source": [
    "#\n",
    "# select counties here\n",
    "# TODO: sort by number of cases and select top 5, etc.\n",
    "county_list=['Santa Clara','Alachua','Alameda']"
   ]
  },
  {
   "cell_type": "code",
   "execution_count": null,
   "metadata": {
    "colab": {},
    "colab_type": "code",
    "id": "2l_MFOmUc9_h"
   },
   "outputs": [],
   "source": [
    "slice_df1 = slice_df.copy()\n"
   ]
  },
  {
   "cell_type": "code",
   "execution_count": null,
   "metadata": {
    "colab": {
     "base_uri": "https://localhost:8080/",
     "height": 255
    },
    "colab_type": "code",
    "executionInfo": {
     "elapsed": 445,
     "status": "ok",
     "timestamp": 1585931207672,
     "user": {
      "displayName": "Robert Yu",
      "photoUrl": "https://lh3.googleusercontent.com/a-/AOh14Ghf4OXctI7xoEyjOLrjcqFZbC8ZAag4rERPO5-84Q=s64",
      "userId": "07564920763796818772"
     },
     "user_tz": 420
    },
    "id": "Q4S7ROP_mSO7",
    "outputId": "25ae3bbe-a03b-4aec-db67-072ce1464626"
   },
   "outputs": [],
   "source": [
    "# compute deltacases (i.e. Nd)\n",
    "slice_df2 = slice_df1.copy()\n",
    "\n",
    "for countyname in county_list:\n",
    "  print(countyname)\n",
    "  slice_df2 = calc_delta_over_daynum(slice_df2, countyname,'cases','dcases')\n",
    "  slice_df2 = calc_delta_over_daynum(slice_df2, countyname,'deaths','ddeaths')\n",
    "slice_df2[slice_df2.county=='Alameda'].head()"
   ]
  },
  {
   "cell_type": "code",
   "execution_count": null,
   "metadata": {
    "colab": {},
    "colab_type": "code",
    "id": "tgIh7l0Iyeky"
   },
   "outputs": [],
   "source": [
    "\n",
    "slice_df3 = slice_df2.copy()\n",
    "for countyname in county_list:\n",
    "  slice_df3 = calc_growthfactor(slice_df3,countyname)\n"
   ]
  },
  {
   "cell_type": "code",
   "execution_count": null,
   "metadata": {
    "colab": {},
    "colab_type": "code",
    "id": "eaxSRut2FDNB"
   },
   "outputs": [],
   "source": [
    "slice_df4 = slice_df3.copy()\n",
    "for countyname in county_list:\n",
    "  slice_df4 = avg_over_daynum(slice_df4, countyname, \"growthf\", 3, \"avggrowthf\")\n"
   ]
  },
  {
   "cell_type": "code",
   "execution_count": null,
   "metadata": {
    "colab": {
     "base_uri": "https://localhost:8080/",
     "height": 542
    },
    "colab_type": "code",
    "executionInfo": {
     "elapsed": 517,
     "status": "ok",
     "timestamp": 1585931210273,
     "user": {
      "displayName": "Robert Yu",
      "photoUrl": "https://lh3.googleusercontent.com/a-/AOh14Ghf4OXctI7xoEyjOLrjcqFZbC8ZAag4rERPO5-84Q=s64",
      "userId": "07564920763796818772"
     },
     "user_tz": 420
    },
    "id": "ToXYQGWrdtVD",
    "outputId": "8c8d72ad-e86b-4558-ee93-24693ce99dac"
   },
   "outputs": [],
   "source": [
    "# graph: cases per day\n",
    "graph_cases_list=[]\n",
    "for countyname in county_list:\n",
    "  tmp_df = slice_df3[slice_df.county==countyname]\n",
    "  graph_cases_list.append(go.Scatter(name=countyname,\n",
    "                               x=tmp_df['tstamp'],\n",
    "                               y=tmp_df['cases'],\n",
    "                               mode='lines+markers'\n",
    "                               ))\n",
    "\n",
    "x_axis=dict(\n",
    "    showgrid=True,\n",
    "    title='day')\n",
    "y_axis=dict(\n",
    "    showgrid=True,\n",
    "    title='cases')\n",
    "\n",
    "layout=go.Layout(\n",
    "    title={\n",
    "        'text':'total cases vs Date',\n",
    "        'x':0.5  # center\n",
    "    },\n",
    "    xaxis=x_axis,\n",
    "    yaxis_type=\"log\",\n",
    "    yaxis=y_axis,\n",
    "    width=1000,\n",
    "    showlegend=True\n",
    ")\n",
    "fig = go.Figure( data=graph_cases_list, layout=layout)\n",
    "fig.update_yaxes(gridcolor='black')\n",
    "fig.update_xaxes(gridcolor='black')\n",
    "fig.show()\n"
   ]
  },
  {
   "cell_type": "code",
   "execution_count": null,
   "metadata": {
    "colab": {
     "base_uri": "https://localhost:8080/",
     "height": 542
    },
    "colab_type": "code",
    "executionInfo": {
     "elapsed": 633,
     "status": "ok",
     "timestamp": 1585931214416,
     "user": {
      "displayName": "Robert Yu",
      "photoUrl": "https://lh3.googleusercontent.com/a-/AOh14Ghf4OXctI7xoEyjOLrjcqFZbC8ZAag4rERPO5-84Q=s64",
      "userId": "07564920763796818772"
     },
     "user_tz": 420
    },
    "id": "HgFp312GTB7W",
    "outputId": "b9cb03a2-7eb8-4f98-89d1-5522f8e81419"
   },
   "outputs": [],
   "source": [
    "#\n",
    "# new cases per day\n",
    "graph_new_list=[]\n",
    "for countyname in county_list:\n",
    "  tmp_df = slice_df3[slice_df.county==countyname]\n",
    "  graph_new_list.append(go.Scatter(name=countyname,\n",
    "                               x=tmp_df['tstamp'],\n",
    "                               y=tmp_df['dcases'],\n",
    "                               mode='lines+markers'\n",
    "                               ))\n",
    "  x_axis=dict(\n",
    "    showgrid=True,\n",
    "    title='day')\n",
    "y_axis=dict(\n",
    "    showgrid=True,\n",
    "    title='cases')\n",
    "layout=go.Layout(\n",
    "    title={\n",
    "        'text':'New Cases vs date',\n",
    "        'x':0.5  # center\n",
    "    },\n",
    "    xaxis=x_axis,\n",
    "    #yaxis_type=\"log\",\n",
    "    yaxis=y_axis,\n",
    "    width=1000,\n",
    "    showlegend=True\n",
    ")\n",
    "fig = go.Figure( data=graph_new_list, layout=layout)\n",
    "fig.update_yaxes(gridcolor='black')\n",
    "fig.update_xaxes(gridcolor='black')\n",
    "fig.show()"
   ]
  },
  {
   "cell_type": "code",
   "execution_count": null,
   "metadata": {
    "colab": {
     "base_uri": "https://localhost:8080/",
     "height": 542
    },
    "colab_type": "code",
    "executionInfo": {
     "elapsed": 546,
     "status": "ok",
     "timestamp": 1585931218793,
     "user": {
      "displayName": "Robert Yu",
      "photoUrl": "https://lh3.googleusercontent.com/a-/AOh14Ghf4OXctI7xoEyjOLrjcqFZbC8ZAag4rERPO5-84Q=s64",
      "userId": "07564920763796818772"
     },
     "user_tz": 420
    },
    "id": "gkTIeYL5xoMd",
    "outputId": "b6a958b6-f169-4f3a-85ab-917cd51e4826"
   },
   "outputs": [],
   "source": [
    "#\n",
    "# plot new cases vs total cases\n",
    "# this plot supposedly highlights when a population drops off the curve\n",
    "graph_new_list=[]\n",
    "for countyname in county_list:\n",
    "  tmp_df = slice_df3[slice_df.county==countyname]\n",
    "  graph_new_list.append(go.Scatter(name=countyname,\n",
    "                               x=tmp_df['cases'],\n",
    "                               y=tmp_df['dcases'],\n",
    "                               mode='lines+markers'\n",
    "                               ))\n",
    "  x_axis=dict(\n",
    "    showgrid=True,\n",
    "    title='total cases')\n",
    "y_axis=dict(\n",
    "    showgrid=True,\n",
    "    title='new cases')\n",
    "layout=go.Layout(\n",
    "    title={\n",
    "        'text':'New Cases vs total cases',\n",
    "        'x':0.5  # center\n",
    "    },\n",
    "    xaxis=x_axis,\n",
    "    xaxis_type=\"log\",\n",
    "    yaxis=y_axis,\n",
    "    yaxis_type=\"log\",\n",
    "    width=1000,\n",
    "    showlegend=True\n",
    ")\n",
    "fig = go.Figure( data=graph_new_list, layout=layout)\n",
    "fig.update_yaxes(gridcolor='black')\n",
    "fig.update_xaxes(gridcolor='black')\n",
    "fig.show()"
   ]
  },
  {
   "cell_type": "code",
   "execution_count": null,
   "metadata": {
    "colab": {
     "base_uri": "https://localhost:8080/",
     "height": 542
    },
    "colab_type": "code",
    "executionInfo": {
     "elapsed": 513,
     "status": "ok",
     "timestamp": 1585931224048,
     "user": {
      "displayName": "Robert Yu",
      "photoUrl": "https://lh3.googleusercontent.com/a-/AOh14Ghf4OXctI7xoEyjOLrjcqFZbC8ZAag4rERPO5-84Q=s64",
      "userId": "07564920763796818772"
     },
     "user_tz": 420
    },
    "id": "gwrY5YYezH-I",
    "outputId": "39b6e23d-8095-4160-b105-9758a64fed75"
   },
   "outputs": [],
   "source": [
    "#\n",
    "# new deaths per day\n",
    "graph_deaths_list=[]\n",
    "for countyname in county_list:\n",
    "  tmp_df = slice_df3[slice_df.county==countyname]\n",
    "  graph_deaths_list.append(go.Scatter(name=countyname,\n",
    "                               x=tmp_df['tstamp'],\n",
    "                               y=tmp_df['ddeaths'],\n",
    "                               mode='lines+markers'\n",
    "                               ))\n",
    "x_axis=dict(\n",
    "    showgrid=True,\n",
    "    title='day')\n",
    "y_axis=dict(\n",
    "    showgrid=True,\n",
    "    title='cases')\n",
    "\n",
    "layout=go.Layout(\n",
    "    title={\n",
    "        'text':'daily deaths vs date',\n",
    "        'x':0.5  # center\n",
    "    },\n",
    "    xaxis=x_axis,\n",
    "    #yaxis_type=\"log\",\n",
    "    yaxis=y_axis,\n",
    "    width=1000,\n",
    "    showlegend=True\n",
    ")\n",
    "fig = go.Figure( data=graph_deaths_list, layout=layout)\n",
    "fig.update_yaxes(gridcolor='black')\n",
    "fig.update_xaxes(gridcolor='black')\n",
    "fig.show()"
   ]
  },
  {
   "cell_type": "code",
   "execution_count": null,
   "metadata": {
    "colab": {
     "base_uri": "https://localhost:8080/",
     "height": 542
    },
    "colab_type": "code",
    "executionInfo": {
     "elapsed": 537,
     "status": "ok",
     "timestamp": 1585931227637,
     "user": {
      "displayName": "Robert Yu",
      "photoUrl": "https://lh3.googleusercontent.com/a-/AOh14Ghf4OXctI7xoEyjOLrjcqFZbC8ZAag4rERPO5-84Q=s64",
      "userId": "07564920763796818772"
     },
     "user_tz": 420
    },
    "id": "BNAsiSLbTCkw",
    "outputId": "8873dabc-43e3-4d09-9c23-1e6b4b939fb1"
   },
   "outputs": [],
   "source": [
    "#\n",
    "# growthfactor per day\n",
    "graph_growth_list=[]\n",
    "for countyname in county_list:\n",
    "  tmp_df = slice_df4[slice_df.county==countyname]\n",
    "  graph_growth_list.append(go.Scatter(name=countyname,\n",
    "                               x=tmp_df['tstamp'],\n",
    "                               y=tmp_df['avggrowthf'],\n",
    "                               mode='lines+markers'\n",
    "                               ))\n",
    "  x_axis=dict(\n",
    "    showgrid=True,\n",
    "    title='day')\n",
    "y_axis=dict(\n",
    "    showgrid=True,\n",
    "    range=[0,3],\n",
    "    title='growthf')\n",
    "\n",
    "layout=go.Layout(\n",
    "    title={\n",
    "        'text':'# Growth Factor d(N)/d(N-1)',\n",
    "        'x':0.5  # center\n",
    "    },\n",
    "    xaxis=x_axis,\n",
    "    #yaxis_type=\"log\",\n",
    "    yaxis=y_axis,\n",
    "    width=1000,\n",
    "    showlegend=True\n",
    ")\n",
    "fig = go.Figure( data=graph_growth_list, layout=layout)\n",
    "fig.update_yaxes(gridcolor='black')\n",
    "fig.update_xaxes(gridcolor='black')\n",
    "fig.show()"
   ]
  },
  {
   "cell_type": "code",
   "execution_count": null,
   "metadata": {
    "colab": {},
    "colab_type": "code",
    "id": "fa9IgHHnqx7U"
   },
   "outputs": [],
   "source": []
  }
 ],
 "metadata": {
  "colab": {
   "authorship_tag": "ABX9TyPktIWg3ZdEcnn1FWw4UwS1",
   "collapsed_sections": [],
   "name": "analyze-nytimes-covid-county.ipynb",
   "provenance": [
    {
     "file_id": "1h_LTUS4Bkwi2hXWh5Pnq6Z-iVN9ikr03",
     "timestamp": 1585879536070
    },
    {
     "file_id": "1ydI0ccBZdzioNEcQLfIAVjQ6fP9kgwjG",
     "timestamp": 1585350852351
    }
   ]
  },
  "kernelspec": {
   "display_name": "Python 3",
   "language": "python",
   "name": "python3"
  },
  "language_info": {
   "codemirror_mode": {
    "name": "ipython",
    "version": 3
   },
   "file_extension": ".py",
   "mimetype": "text/x-python",
   "name": "python",
   "nbconvert_exporter": "python",
   "pygments_lexer": "ipython3",
   "version": "3.7.3"
  }
 },
 "nbformat": 4,
 "nbformat_minor": 1
}
